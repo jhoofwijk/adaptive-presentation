{
 "cells": [
  {
   "cell_type": "code",
   "execution_count": null,
   "metadata": {},
   "outputs": [],
   "source": [
    "import matplotlib.pyplot as plt\n",
    "import numpy as np"
   ]
  },
  {
   "cell_type": "code",
   "execution_count": null,
   "metadata": {},
   "outputs": [],
   "source": [
    "plt.rcParams.update({'font.size': 14})"
   ]
  },
  {
   "cell_type": "code",
   "execution_count": null,
   "metadata": {},
   "outputs": [],
   "source": [
    "d = 5\n",
    "def lorentzian(x, x0):\n",
    "    return 1/((x-x0)**2 + d**2)\n",
    "\n",
    "def f(x): # 50 points is nice\n",
    "    return lorentzian(x, 115) + lorentzian(x, 450)\n",
    "\n",
    "domain = [-100,700]"
   ]
  },
  {
   "cell_type": "code",
   "execution_count": null,
   "metadata": {},
   "outputs": [],
   "source": [
    "plt.cla()\n",
    "x = np.linspace(*domain, 5000)\n",
    "y = f(x) #+ np.random.randn(5000)*0.001\n",
    "plt.plot(x,y)\n",
    "\n",
    "# plt.tick_params(\n",
    "#     axis='x',          # changes apply to the x-axis\n",
    "#     which='both',      # both major and minor ticks are affected\n",
    "#     bottom=False,      # ticks along the bottom edge are off\n",
    "#     top=False,         # ticks along the top edge are off\n",
    "#     labelbottom=False) # labels along the bottom edge are off\n",
    "\n",
    "plt.tick_params(\n",
    "    axis='y',          # changes apply to the x-axis\n",
    "    which='both',      # both major and minor ticks are affected\n",
    "    left=False,      # ticks along the bottom edge are off\n",
    "    top=False,         # ticks along the top edge are off\n",
    "    labelleft=False) # labels along the bottom edge are off\n",
    "plt.xlabel('frequency')\n",
    "plt.ylabel('amplitude')\n",
    "plt.xticks([115,450], ['$f_1$', '$f_2$'])\n",
    "\n",
    "plt.savefig(f'original.svg', bbox_inches='tight')"
   ]
  },
  {
   "cell_type": "code",
   "execution_count": null,
   "metadata": {},
   "outputs": [],
   "source": [
    "for N in [25,50,75,100]:\n",
    "    plt.cla()\n",
    "    x = np.linspace(*domain, 5000)\n",
    "    y = f(x)\n",
    "    plt.plot(x,y, linestyle=':')\n",
    "\n",
    "    x = np.linspace(*domain, N)\n",
    "    y = f(x)\n",
    "    plt.plot(x,y, marker='o', markersize=4, linewidth=0)\n",
    "\n",
    "    plt.tick_params(\n",
    "        axis='y',          # changes apply to the x-axis\n",
    "        which='both',      # both major and minor ticks are affected\n",
    "        left=False,      # ticks along the bottom edge are off\n",
    "        top=False,         # ticks along the top edge are off\n",
    "        labelleft=False) # labels along the bottom edge are off\n",
    "    plt.xlabel('frequency')\n",
    "    plt.ylabel('amplitude')\n",
    "    plt.xticks([115,450], ['$f_1$', '$f_2$'])\n",
    "    plt.savefig(f'homo_{N}.svg', bbox_inches='tight')"
   ]
  },
  {
   "cell_type": "code",
   "execution_count": null,
   "metadata": {},
   "outputs": [],
   "source": [
    "import adaptive\n",
    "adaptive.notebook_extension()"
   ]
  },
  {
   "cell_type": "code",
   "execution_count": null,
   "metadata": {},
   "outputs": [],
   "source": [
    "for N in [25,50,75,100]:\n",
    "    plt.cla()\n",
    "    x = np.linspace(*domain, 5000)\n",
    "    y = f(x)\n",
    "    plt.plot(x,y, linestyle=':')\n",
    "\n",
    "\n",
    "    learner = adaptive.Learner1D(f, domain)\n",
    "    adaptive.runner.simple(learner, goal=lambda l: l.npoints >= N)\n",
    "    x,y = zip(*sorted(learner.data.items()))\n",
    "    plt.plot(x,y, marker='o', markersize=4, linewidth=0)\n",
    "\n",
    "    plt.tick_params(\n",
    "        axis='y',          # changes apply to the x-axis\n",
    "        which='both',      # both major and minor ticks are affected\n",
    "        left=False,      # ticks along the bottom edge are off\n",
    "        top=False,         # ticks along the top edge are off\n",
    "        labelleft=False) # labels along the bottom edge are off\n",
    "    plt.xlabel('frequency')\n",
    "    plt.ylabel('amplitude')\n",
    "    plt.xticks([115,450], ['$f_1$', '$f_2$'])\n",
    "    plt.savefig(f'adaptive_{N}.svg', bbox_inches='tight')"
   ]
  },
  {
   "cell_type": "code",
   "execution_count": null,
   "metadata": {},
   "outputs": [],
   "source": [
    "from adaptive.learner.learner1D import curvature_loss_function"
   ]
  },
  {
   "cell_type": "code",
   "execution_count": null,
   "metadata": {},
   "outputs": [],
   "source": [
    "for N in [25,50,75,100]:\n",
    "    plt.cla()\n",
    "    x = np.linspace(*domain, 5000)\n",
    "    y = f(x)\n",
    "    plt.plot(x,y, linestyle=':')\n",
    "\n",
    "    learner = adaptive.Learner1D(f, domain, loss_per_interval=curvature_loss_function(1,0,0.05))\n",
    "    adaptive.runner.simple(learner, goal=lambda l: l.npoints >= N)\n",
    "    x,y = zip(*sorted(learner.data.items()))\n",
    "    plt.plot(x,y, marker='o', markersize=4, linewidth=0)\n",
    "\n",
    "    plt.tick_params(\n",
    "        axis='y',          # changes apply to the x-axis\n",
    "        which='both',      # both major and minor ticks are affected\n",
    "        left=False,      # ticks along the bottom edge are off\n",
    "        top=False,         # ticks along the top edge are off\n",
    "        labelleft=False) # labels along the bottom edge are off\n",
    "    plt.xlabel('frequency')\n",
    "    plt.ylabel('amplitude')\n",
    "    plt.xticks([115,450], ['$f_1$', '$f_2$'])\n",
    "    plt.savefig(f'curv_{N}.svg', bbox_inches='tight')"
   ]
  },
  {
   "cell_type": "code",
   "execution_count": null,
   "metadata": {},
   "outputs": [],
   "source": []
  },
  {
   "cell_type": "code",
   "execution_count": null,
   "metadata": {},
   "outputs": [],
   "source": []
  }
 ],
 "metadata": {
  "kernelspec": {
   "display_name": "Python 3",
   "language": "python",
   "name": "python3"
  },
  "language_info": {
   "codemirror_mode": {
    "name": "ipython",
    "version": 3
   },
   "file_extension": ".py",
   "mimetype": "text/x-python",
   "name": "python",
   "nbconvert_exporter": "python",
   "pygments_lexer": "ipython3",
   "version": "3.7.3"
  }
 },
 "nbformat": 4,
 "nbformat_minor": 2
}
