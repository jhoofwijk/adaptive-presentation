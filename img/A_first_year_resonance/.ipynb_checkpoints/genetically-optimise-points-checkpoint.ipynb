{
 "cells": [
  {
   "cell_type": "code",
   "execution_count": null,
   "metadata": {},
   "outputs": [],
   "source": [
    "import numpy as np\n",
    "import scipy\n",
    "import matplotlib.pyplot as plt"
   ]
  },
  {
   "cell_type": "code",
   "execution_count": null,
   "metadata": {},
   "outputs": [],
   "source": [
    "def f(x):\n",
    "    return np.tanh(10*x)\n",
    "\n",
    "domain = [-.5, .5]"
   ]
  },
  {
   "cell_type": "code",
   "execution_count": null,
   "metadata": {},
   "outputs": [],
   "source": [
    "x = np.linspace(*domain, 100)\n",
    "y = f(x)"
   ]
  },
  {
   "cell_type": "code",
   "execution_count": null,
   "metadata": {},
   "outputs": [],
   "source": [
    "plt.plot(x,y)"
   ]
  },
  {
   "cell_type": "code",
   "execution_count": null,
   "metadata": {},
   "outputs": [],
   "source": [
    "def err(x):\n",
    "    y =  f(x)\n",
    "    xi = np.random.random(100000)\n",
    "    return np.average(np.abs(np.interp(xi, x, y) - f(xi)))"
   ]
  },
  {
   "cell_type": "code",
   "execution_count": null,
   "metadata": {},
   "outputs": [],
   "source": [
    "X = np.linspace(*domain, 10)"
   ]
  },
  {
   "cell_type": "code",
   "execution_count": null,
   "metadata": {},
   "outputs": [],
   "source": [
    "for i in range(1000):\n",
    "    r = 0.01\n",
    "    d = np.random.normal(0, r, 10) * np.random.randint(0,2,10)\n",
    "    x = X + d\n",
    "    x = np.minimum( .5, x)\n",
    "    x = np.maximum(-.5, x)\n",
    "    x = np.sort(x)\n",
    "    x[0] = -.5\n",
    "    x[-1] = .5\n",
    "\n",
    "    if err(X) > err(x):\n",
    "        X = x\n",
    "    if i % 100 == 0:\n",
    "        print(err(X))\n",
    "\n",
    "print(err(X))"
   ]
  },
  {
   "cell_type": "code",
   "execution_count": null,
   "metadata": {},
   "outputs": [],
   "source": [
    "plt.plot(X, f(X), marker='o')\n",
    "\n",
    "xx = np.linspace(*domain, 200)\n",
    "plt.plot(xx, f(xx))\n"
   ]
  },
  {
   "cell_type": "code",
   "execution_count": null,
   "metadata": {},
   "outputs": [],
   "source": [
    "def err(x):\n",
    "    y =  f(x)\n",
    "    xi = np.random.random(1000000)\n",
    "    return np.average(np.abs(np.interp(xi, x, y) - f(xi)))"
   ]
  },
  {
   "cell_type": "code",
   "execution_count": null,
   "metadata": {},
   "outputs": [],
   "source": [
    "np.hstack(([-.5], np.sort(d), [.5]))"
   ]
  }
 ],
 "metadata": {
  "kernelspec": {
   "display_name": "Python 3",
   "language": "python",
   "name": "python3"
  },
  "language_info": {
   "codemirror_mode": {
    "name": "ipython",
    "version": 3
   },
   "file_extension": ".py",
   "mimetype": "text/x-python",
   "name": "python",
   "nbconvert_exporter": "python",
   "pygments_lexer": "ipython3",
   "version": "3.7.3"
  }
 },
 "nbformat": 4,
 "nbformat_minor": 2
}
