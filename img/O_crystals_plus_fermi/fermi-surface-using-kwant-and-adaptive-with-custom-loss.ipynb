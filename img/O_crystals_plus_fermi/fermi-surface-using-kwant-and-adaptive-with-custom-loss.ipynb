{
 "cells": [
  {
   "cell_type": "code",
   "execution_count": null,
   "metadata": {},
   "outputs": [],
   "source": [
    "# Everything except adaptive will probably work fine with other versions as well. \n",
    "\n",
    "# Python 3.6.6\n",
    "import itertools\n",
    "import random\n",
    "\n",
    "# ipywidgets 7.4.1\n",
    "from ipywidgets import interact_manual\n",
    "\n",
    "# Numpy 1.15.1\n",
    "import numpy as np\n",
    "\n",
    "# Scipy 1.1.0\n",
    "import scipy\n",
    "import scipy.linalg\n",
    "import scipy.spatial\n",
    "\n",
    "\n",
    "# Kwant 1.3.3. May work with lower versions as well, I didn't test this\n",
    "from kwant import builder, system, plotter\n",
    "from kwant.linalg import lll\n",
    "from kwant.builder import herm_conj, HermConjOfFunc\n",
    "from kwant.lattice import TranslationalSymmetry\n",
    "from kwant._common import get_parameters\n",
    "from kwant.wraparound import *\n",
    "import kwant.linalg\n",
    "import kwant.lattice\n",
    "\n",
    "# Adaptive 0.6 branch [111-no-flat-simplices], it doesn't work with on the master branch\n",
    "import adaptive\n",
    "adaptive.notebook_extension()\n"
   ]
  },
  {
   "cell_type": "code",
   "execution_count": null,
   "metadata": {},
   "outputs": [],
   "source": [
    "from adaptive.learner.base_learner import uses_nth_neighbors\n",
    "from adaptive.learner.learnerND import curvature_loss_function"
   ]
  },
  {
   "cell_type": "code",
   "execution_count": null,
   "metadata": {},
   "outputs": [],
   "source": [
    "import plotly.io as pio\n",
    "import plotly.graph_objs as go\n",
    "import plotly\n",
    "from plotly.offline import iplot, init_notebook_mode\n",
    "init_notebook_mode(connected=True)"
   ]
  },
  {
   "cell_type": "code",
   "execution_count": null,
   "metadata": {},
   "outputs": [],
   "source": [
    "import time"
   ]
  },
  {
   "cell_type": "code",
   "execution_count": null,
   "metadata": {},
   "outputs": [],
   "source": [
    "do_plots = True"
   ]
  },
  {
   "cell_type": "code",
   "execution_count": null,
   "metadata": {},
   "outputs": [],
   "source": [
    "# Define the lattice vectors of some common unit cells\n",
    "# Hexagonal\n",
    "a = -np.pi/6\n",
    "unit_cell_vectors_hexagonal = [\n",
    "    (        0,         1, 0), \n",
    "    (np.cos(a), np.sin(a), 0), \n",
    "    (        0,         0, 1)\n",
    "]\n",
    "\n",
    "# Simple cubic\n",
    "unit_cell_vectors_simple_cubic = [\n",
    "    (1, 0, 0), \n",
    "    (0, 1, 0), \n",
    "    (0, 0, 1)\n",
    "]\n",
    "\n",
    "# FCC\n",
    "unit_cell_vectors_fcc = [\n",
    "    (0,.5,.5), \n",
    "    (.5,.5,0), \n",
    "    (.5,0,.5)\n",
    "]\n",
    "\n",
    "# BCC\n",
    "unit_cell_vectors_bcc = [\n",
    "    (-.5, .5, .5), \n",
    "    ( .5,-.5, .5), \n",
    "    ( .5, .5,-.5)\n",
    "]"
   ]
  },
  {
   "cell_type": "code",
   "execution_count": null,
   "metadata": {},
   "outputs": [],
   "source": [
    "N = 15"
   ]
  },
  {
   "cell_type": "code",
   "execution_count": null,
   "metadata": {},
   "outputs": [],
   "source": [
    "# Hexagonal\n",
    "unit_cell_vectors = unit_cell_vectors_hexagonal\n",
    "isolevel = -.5\n",
    "crystal = 'Hexagonal'"
   ]
  },
  {
   "cell_type": "code",
   "execution_count": null,
   "metadata": {},
   "outputs": [],
   "source": [
    "# Simple cubic\n",
    "unit_cell_vectors = unit_cell_vectors_simple_cubic\n",
    "isolevel = -.5\n",
    "\n",
    "crystal = 'Simple cubic'"
   ]
  },
  {
   "cell_type": "code",
   "execution_count": null,
   "metadata": {},
   "outputs": [],
   "source": [
    "# FCC\n",
    "unit_cell_vectors = unit_cell_vectors_fcc\n",
    "isolevel = -1\n",
    "\n",
    "crystal = 'FCC'"
   ]
  },
  {
   "cell_type": "code",
   "execution_count": null,
   "metadata": {},
   "outputs": [],
   "source": [
    "# BCC\n",
    "unit_cell_vectors = unit_cell_vectors_bcc\n",
    "isolevel = -0.5\n",
    "# isolevel = -1\n",
    "crystal = 'BCC'"
   ]
  },
  {
   "cell_type": "code",
   "execution_count": null,
   "metadata": {},
   "outputs": [],
   "source": [
    "ax = dict(\n",
    "    autorange=True,\n",
    "    showgrid=False,\n",
    "    zeroline=False,\n",
    "    showline=False,\n",
    "    ticks='',\n",
    "    showticklabels=False,\n",
    "    title=''\n",
    ")\n",
    "\n",
    "lo=go.Layout(\n",
    "    scene = dict(\n",
    "        xaxis = ax,\n",
    "        yaxis = ax,\n",
    "        zaxis = ax\n",
    "    ),\n",
    "    height=1500, width=1500\n",
    ")"
   ]
  },
  {
   "cell_type": "code",
   "execution_count": null,
   "metadata": {},
   "outputs": [],
   "source": [
    "time_start = time.time()"
   ]
  },
  {
   "cell_type": "code",
   "execution_count": null,
   "metadata": {},
   "outputs": [],
   "source": [
    "# Choose some latice and atoms, like hexagonal in this case\n",
    "\n",
    "unit_cell_atoms = [\n",
    "    ( 0,  0,  0)\n",
    "]\n",
    "\n",
    "def create_syst():\n",
    "    lat = kwant.lattice.Polyatomic(unit_cell_vectors, unit_cell_atoms, 'Some crystal')\n",
    "   \n",
    "    syst = kwant.Builder(kwant.TranslationalSymmetry(*lat.prim_vecs)) # infinite in all dimensions\n",
    "    syst[lat.shape(lambda pos: True, (0, 0, 0))] = isolevel # onsite\n",
    "    syst[lat.neighbors()] = -1 # hopping\n",
    "\n",
    "    syst = kwant.wraparound.wraparound(syst).finalized()\n",
    "    \n",
    "    return syst\n",
    "\n",
    "syst = create_syst()\n",
    "\n",
    "def energies(params):\n",
    "    H = syst.hamiltonian_submatrix(params=params)\n",
    "    eigs = np.linalg.eigvalsh(H)\n",
    "    return eigs"
   ]
  },
  {
   "cell_type": "code",
   "execution_count": null,
   "metadata": {},
   "outputs": [],
   "source": [
    "# Do some math\n",
    "B = np.asarray(unit_cell_vectors).T\n",
    "A = np.linalg.pinv(B).T\n",
    "\n",
    "neighbours = kwant.linalg.lll.voronoi(A)\n",
    "lattice_points = np.concatenate(([[0,0,0]], neighbours))\n",
    "lattice_points = 2 * np.pi * (lattice_points @ A.T)\n",
    "vor = scipy.spatial.Voronoi(lattice_points)\n",
    "brillouin_zone = vor.vertices[vor.regions[vor.point_region[0]]]\n",
    "hull = scipy.spatial.ConvexHull(brillouin_zone)\n",
    "\n",
    "bounds = list(map(tuple, np.vstack([\n",
    "    np.min(brillouin_zone, axis=0),\n",
    "    np.max(brillouin_zone, axis=0)\n",
    "]).T * (1+1e-6))) # make bounds"
   ]
  },
  {
   "cell_type": "code",
   "execution_count": null,
   "metadata": {},
   "outputs": [],
   "source": [
    "# convertion of coordinate system\n",
    "def momentum_to_lattice(k):\n",
    "    k, residuals = scipy.linalg.lstsq(A, k)[:2]\n",
    "    if np.any(abs(residuals) > 1e-7):\n",
    "        raise RuntimeError(\"Requested momentum doesn't correspond\"\n",
    "                           \" to any lattice momentum.\")\n",
    "    return k\n",
    "\n",
    "# Get the energy for a given k-vector\n",
    "def E(k):\n",
    "    k_x, k_y, k_z = momentum_to_lattice(k)\n",
    "    return min(energies({'k_x': k_x, 'k_y': k_y, 'k_z': k_z}))"
   ]
  },
  {
   "cell_type": "code",
   "execution_count": null,
   "metadata": {},
   "outputs": [],
   "source": [
    "x,y,z = np.meshgrid(np.linspace(*bounds[0],N), np.linspace(*bounds[1],N),np.linspace(*bounds[2],N))\n",
    "X = list(zip(x.flat, y.flat, z.flat))\n",
    "Y = [E(x) for x in X]\n",
    "\n",
    "learnerH = adaptive.LearnerND(E, bounds=bounds)\n",
    "lst = list(zip(X,Y))\n",
    "\n",
    "np.random.shuffle(lst)\n",
    "\n",
    "for x,y in lst:\n",
    "    learnerH.tell(x, y)\n",
    "    if learnerH.npoints %100==0:\n",
    "        print(learnerH.npoints)"
   ]
  },
  {
   "cell_type": "code",
   "execution_count": null,
   "metadata": {},
   "outputs": [],
   "source": [
    "normal_loss = curvature_loss_function(0.05)\n",
    "\n",
    "@uses_nth_neighbors(1)\n",
    "def loss(simplex, ys, nei, neiy):\n",
    "    l = normal_loss(simplex, ys, nei, neiy)\n",
    "    if min(ys) <= 0 and max(ys) >= 0:\n",
    "        return l * 2\n",
    "    return l\n",
    "\n",
    "# Now do some adaptive, remember E = E(k)\n",
    "learner = adaptive.LearnerND(E, hull, loss_per_simplex=loss)\n",
    "\n",
    "hullH = scipy.spatial.ConvexHull(learnerH._bounds_points)\n",
    "NpointsAdaptive = hull.volume / hullH.volume * N**3\n",
    "print(NpointsAdaptive)\n",
    "\n",
    "runner = adaptive.runner.simple(learner, goal=lambda l: l.npoints >= NpointsAdaptive) \n"
   ]
  },
  {
   "cell_type": "code",
   "execution_count": null,
   "metadata": {},
   "outputs": [],
   "source": [
    "if do_plots:\n",
    "    learnerH.plot_isosurface(level=0)"
   ]
  },
  {
   "cell_type": "code",
   "execution_count": null,
   "metadata": {},
   "outputs": [],
   "source": [
    "# plotly = ensure_plotly()\n",
    "\n",
    "if do_plots:\n",
    "    vertices, faces = learnerH._get_iso(0, which='surface')\n",
    "    x, y, z = zip(*vertices)\n",
    "\n",
    "    fig = plotly.figure_factory.create_trisurf(\n",
    "        x=x, y=y, z=z, plot_edges=False,\n",
    "        simplices=faces, title=\"\")\n",
    "    isosurface = fig.data[0]\n",
    "    isosurface.update(lighting=dict(ambient=1, diffuse=1,\n",
    "        roughness=1, specular=0, fresnel=0))\n",
    "\n",
    "    fig.data = fig.data[:1]\n",
    "\n",
    "    f = go.Figure(data=[fig.data[0], learner._get_hull_mesh()], layout=lo)\n",
    "    pio.write_image(f, 'iso_homogeneous.png')\n",
    "    plotly.offline.iplot(f)"
   ]
  },
  {
   "cell_type": "code",
   "execution_count": null,
   "metadata": {},
   "outputs": [],
   "source": [
    "pts, triangles = learnerH._get_iso(level=0)\n",
    "contained = learner._interior.find_simplex(pts, tol=1e-5)\n",
    "count = 0\n",
    "number_of_triangles_fully_container = 0\n",
    "tri = []\n",
    "x, y, z = zip(*pts)\n",
    "for t in triangles:\n",
    "    if any([contained[p] >= 0 for p in t]):\n",
    "        count += 1\n",
    "        tri.append(t)\n",
    "    if all([contained[p] >= 0 for p in t]):\n",
    "        number_of_triangles_fully_container += 1\n",
    "        \n",
    "        \n",
    "if do_plots:\n",
    "    fig = plotly.figure_factory.create_trisurf(\n",
    "                x=x, y=y, z=z, plot_edges=False,\n",
    "                simplices=tri, title=\"Isosurface\")\n",
    "    isosurface = fig.data[0]\n",
    "    isosurface.update(lighting=dict(ambient=1, diffuse=1,\n",
    "        roughness=1, specular=0, fresnel=0))\n",
    "    \n",
    "    f = go.Figure(data=[fig.data[0], learner._get_hull_mesh()], layout=lo)\n",
    "    pio.write_image(f, 'iso_homogeneous.png')\n",
    "    \n",
    "    plot = plotly.offline.iplot(f)\n",
    "print(count, number_of_triangles_fully_container)\n",
    "number_of_triangles_homogeneous = count"
   ]
  },
  {
   "cell_type": "code",
   "execution_count": null,
   "metadata": {},
   "outputs": [],
   "source": [
    "# plot = learner.plot_isosurface(level=0, hull_opacity=0.2)"
   ]
  },
  {
   "cell_type": "code",
   "execution_count": null,
   "metadata": {},
   "outputs": [],
   "source": [
    "max(list(learner.data.values()))"
   ]
  },
  {
   "cell_type": "code",
   "execution_count": null,
   "metadata": {},
   "outputs": [],
   "source": [
    "learner.npoints"
   ]
  },
  {
   "cell_type": "code",
   "execution_count": null,
   "metadata": {},
   "outputs": [],
   "source": [
    "pts, triangles = learner._get_iso(level=0)\n",
    "number_of_triangles_adaptive = len(triangles)\n",
    "number_of_triangles_adaptive"
   ]
  },
  {
   "cell_type": "code",
   "execution_count": null,
   "metadata": {},
   "outputs": [],
   "source": [
    "if do_plots:\n",
    "    vertices, faces = learner._get_iso(0, which='surface')\n",
    "    x, y, z = zip(*vertices)\n",
    "\n",
    "    fig = plotly.figure_factory.create_trisurf(\n",
    "        x=x, y=y, z=z, plot_edges=False,\n",
    "        simplices=faces, title=\"\")\n",
    "    isosurface = fig.data[0]\n",
    "    isosurface.update(lighting=dict(ambient=1, diffuse=1,\n",
    "        roughness=1, specular=0, fresnel=0))\n",
    "\n",
    "    fig.data = fig.data[:1]\n",
    "\n",
    "    print(len(faces))\n",
    "    f = go.Figure(data=[fig.data[0], learner._get_hull_mesh()], layout=lo)\n",
    "    pio.write_image(f, 'iso_adaptive.png')\n",
    "    plotly.offline.iplot(f)\n"
   ]
  },
  {
   "cell_type": "code",
   "execution_count": null,
   "metadata": {},
   "outputs": [],
   "source": [
    "vertices, faces = learner._get_iso(0, which='surface')\n",
    "x, y, z = zip(*vertices)\n",
    "fig = plotly.figure_factory.create_trisurf(\n",
    "    x=x, y=y, z=z, plot_edges=True,\n",
    "    simplices=faces, title=\"\")\n",
    "isosurface = fig.data[0]\n",
    "isosurface.update(lighting=dict(ambient=1, diffuse=1,\n",
    "    roughness=1, specular=0, fresnel=0))\n",
    "\n",
    "plotly.offline.iplot(fig)"
   ]
  },
  {
   "cell_type": "code",
   "execution_count": null,
   "metadata": {},
   "outputs": [],
   "source": [
    "pts, triangles = learnerH._get_iso(level=0)\n",
    "contained = learner._interior.find_simplex(pts, tol=1e-5)\n",
    "count = 0\n",
    "number_of_triangles_fully_container = 0\n",
    "tri = []\n",
    "x, y, z = zip(*pts)\n",
    "for t in triangles:\n",
    "    if any([contained[p] >= 0 for p in t]):\n",
    "        count += 1\n",
    "        tri.append(t)\n",
    "    if all([contained[p] >= 0 for p in t]):\n",
    "        number_of_triangles_fully_container += 1\n",
    "        \n",
    "\n",
    "        \n",
    "vertices, faces = learnerH._get_iso(0, which='surface')\n",
    "x, y, z = zip(*vertices)\n",
    "fig = plotly.figure_factory.create_trisurf(\n",
    "    x=x, y=y, z=z, plot_edges=True,\n",
    "    simplices=tri, title=\"\")\n",
    "isosurface = fig.data[0]\n",
    "isosurface.update(lighting=dict(ambient=1, diffuse=1,\n",
    "    roughness=1, specular=0, fresnel=0))\n",
    "\n",
    "plotly.offline.iplot(fig)\n",
    "        \n"
   ]
  },
  {
   "cell_type": "code",
   "execution_count": null,
   "metadata": {},
   "outputs": [],
   "source": [
    "vertices, faces = learnerH._get_iso(0, which='surface')\n",
    "x, y, z = zip(*vertices)\n",
    "fig = plotly.figure_factory.create_trisurf(\n",
    "    x=x, y=y, z=z, plot_edges=True,\n",
    "    simplices=faces, title=\"\")\n",
    "isosurface = fig.data[0]\n",
    "isosurface.update(lighting=dict(ambient=1, diffuse=1,\n",
    "    roughness=1, specular=0, fresnel=0))\n",
    "\n",
    "plotly.offline.iplot(fig)"
   ]
  },
  {
   "cell_type": "code",
   "execution_count": null,
   "metadata": {},
   "outputs": [],
   "source": [
    "sum((contained > 0))"
   ]
  },
  {
   "cell_type": "code",
   "execution_count": null,
   "metadata": {},
   "outputs": [],
   "source": [
    "sum(learner._interior.find_simplex(learnerH.points) >= 0)"
   ]
  },
  {
   "cell_type": "code",
   "execution_count": null,
   "metadata": {},
   "outputs": [],
   "source": [
    "hull = scipy.spatial.ConvexHull(learner.points)\n",
    "hull.volume"
   ]
  },
  {
   "cell_type": "code",
   "execution_count": null,
   "metadata": {},
   "outputs": [],
   "source": [
    "hullH = scipy.spatial.ConvexHull(learnerH.points)\n",
    "hullH.volume"
   ]
  },
  {
   "cell_type": "code",
   "execution_count": null,
   "metadata": {},
   "outputs": [],
   "source": [
    "# Expected number of points\n",
    "hull.volume / hullH.volume * (N**3)"
   ]
  },
  {
   "cell_type": "code",
   "execution_count": null,
   "metadata": {},
   "outputs": [],
   "source": [
    "scipy.spatial.ConvexHull(learner._interior.points).volume"
   ]
  },
  {
   "cell_type": "code",
   "execution_count": null,
   "metadata": {},
   "outputs": [],
   "source": [
    "sum((learner._interior.find_simplex(learnerH.points, tol=1e-0) >= 0) * 1)"
   ]
  },
  {
   "cell_type": "code",
   "execution_count": null,
   "metadata": {},
   "outputs": [],
   "source": [
    "sum((learner._interior.find_simplex(learnerH.points, tol=1e-1) >= 0) * 1)"
   ]
  },
  {
   "cell_type": "code",
   "execution_count": null,
   "metadata": {},
   "outputs": [],
   "source": [
    "sum((learner._interior.find_simplex(learnerH.points, tol=1e-2) >= 0) * 1)"
   ]
  },
  {
   "cell_type": "code",
   "execution_count": null,
   "metadata": {},
   "outputs": [],
   "source": [
    "sum((learner._interior.find_simplex(learnerH.points, tol=1e-3) >= 0) * 1)"
   ]
  },
  {
   "cell_type": "code",
   "execution_count": null,
   "metadata": {},
   "outputs": [],
   "source": [
    "sum((learner._interior.find_simplex(learnerH.points, tol=1e-4) >= 0) * 1)"
   ]
  },
  {
   "cell_type": "code",
   "execution_count": null,
   "metadata": {},
   "outputs": [],
   "source": [
    "sum((learner._interior.find_simplex(learnerH.points, tol=1e-5) >= 0) * 1)"
   ]
  },
  {
   "cell_type": "code",
   "execution_count": null,
   "metadata": {},
   "outputs": [],
   "source": [
    "sum((learner._interior.find_simplex(learnerH.points, tol=1e-6) >= 0) * 1)"
   ]
  },
  {
   "cell_type": "code",
   "execution_count": null,
   "metadata": {},
   "outputs": [],
   "source": [
    "s = learner._interior.find_simplex(learnerH.points, tol=1e-5)"
   ]
  },
  {
   "cell_type": "code",
   "execution_count": null,
   "metadata": {},
   "outputs": [],
   "source": [
    "np.unique(s, return_counts=True)"
   ]
  },
  {
   "cell_type": "code",
   "execution_count": null,
   "metadata": {},
   "outputs": [],
   "source": [
    "hull.volume / hullH.volume * 12000"
   ]
  },
  {
   "cell_type": "code",
   "execution_count": null,
   "metadata": {},
   "outputs": [],
   "source": []
  },
  {
   "cell_type": "code",
   "execution_count": null,
   "metadata": {},
   "outputs": [],
   "source": []
  },
  {
   "cell_type": "code",
   "execution_count": null,
   "metadata": {},
   "outputs": [],
   "source": [
    "# Getallen die nodig zijn voor het verslag:\n",
    "\n",
    "\n",
    "print(crystal)\n",
    "print('Homo: N_tri', number_of_triangles_homogeneous)\n",
    "print('      N_p  ', learnerH.npoints)\n",
    "print('Adap: N_tri', number_of_triangles_adaptive)\n",
    "print('      N_p  ', learner.npoints)\n",
    "print('Ration', number_of_triangles_adaptive/number_of_triangles_homogeneous)\n",
    "\n",
    "print('\\n\\nfully contained homo:', number_of_triangles_fully_container)\n",
    "print(time.time() - time_start)\n"
   ]
  },
  {
   "cell_type": "code",
   "execution_count": null,
   "metadata": {},
   "outputs": [],
   "source": []
  },
  {
   "cell_type": "code",
   "execution_count": null,
   "metadata": {},
   "outputs": [],
   "source": [
    "x,y,z = learner.points.T\n",
    "\n",
    "trace1 = go.Scatter3d(\n",
    "    x=x,\n",
    "    y=y,\n",
    "    z=z,\n",
    "    mode='markers',\n",
    "    marker=dict(\n",
    "        size=5,\n",
    "        color=z,                # set color to an array/list of desired values\n",
    "        colorscale='Viridis',   # choose a colorscale\n",
    "        opacity=1\n",
    "    )\n",
    ")\n",
    "\n",
    "data = [trace1]\n",
    "layout = go.Layout(\n",
    "    margin=dict(\n",
    "        l=0,\n",
    "        r=0,\n",
    "        b=0,\n",
    "        t=0\n",
    "    )\n",
    ")\n",
    "fig = go.Figure(data=data, layout=layout)\n",
    "plotly.offline.iplot(fig, filename='3d-scatter-colorscale')"
   ]
  },
  {
   "cell_type": "code",
   "execution_count": null,
   "metadata": {},
   "outputs": [],
   "source": []
  },
  {
   "cell_type": "code",
   "execution_count": null,
   "metadata": {},
   "outputs": [],
   "source": []
  }
 ],
 "metadata": {
  "kernelspec": {
   "display_name": "Python 3",
   "language": "python",
   "name": "python3"
  },
  "language_info": {
   "codemirror_mode": {
    "name": "ipython",
    "version": 3
   },
   "file_extension": ".py",
   "mimetype": "text/x-python",
   "name": "python",
   "nbconvert_exporter": "python",
   "pygments_lexer": "ipython3",
   "version": "3.7.3"
  }
 },
 "nbformat": 4,
 "nbformat_minor": 2
}
